{
 "cells": [
  {
   "cell_type": "markdown",
   "metadata": {},
   "source": [
    "# Chunking and Named Entity Recognition\n",
    "\n",
    "This notebook provides an introduction on using NLTK for Chunking and Named Entity Recognition"
   ]
  },
  {
   "cell_type": "markdown",
   "metadata": {},
   "source": [
    "## Initialize NTLK\n",
    "\n",
    "Download some of the resources that NLTK needs"
   ]
  },
  {
   "cell_type": "code",
   "execution_count": 1,
   "metadata": {},
   "outputs": [
    {
     "data": {
      "text/plain": [
       "True"
      ]
     },
     "execution_count": 1,
     "metadata": {},
     "output_type": "execute_result"
    }
   ],
   "source": [
    "import nltk\n",
    "nltk.download('book', quiet=True)"
   ]
  },
  {
   "cell_type": "code",
   "execution_count": 2,
   "metadata": {},
   "outputs": [],
   "source": [
    "from sklearn.model_selection import train_test_split\n",
    "from sklearn.metrics import (\n",
    "    classification_report,\n",
    "    confusion_matrix,\n",
    ")"
   ]
  },
  {
   "cell_type": "markdown",
   "metadata": {},
   "source": [
    "## Loading the Data and Working on the Data Representation\n",
    "\n",
    "A labelled data can be loaded from `nltk` by using the `nltk.corpus.conll2000` module. This provides sentences labeled with the POS tags and the appropriate phrase.\n",
    "\n",
    "NLTK works with different format for the usecase. It can provide the tree format or the conlltags format. This is important since some NLTK functions and libraries outside NLTK can be used with ease if the appropriate format is used."
   ]
  },
  {
   "cell_type": "markdown",
   "metadata": {},
   "source": [
    "### Loading the Data and Sorting by length\n",
    "\n",
    "The data is sorted by length so an appropriate sample can be used. Sentences with very long lengths are hard to visualize in a notebook environment.\n",
    "\n",
    "By default, NLTK provides the data in a tree format from the `nltk.corpus.conll2000` module"
   ]
  },
  {
   "cell_type": "code",
   "execution_count": 3,
   "metadata": {},
   "outputs": [],
   "source": [
    "CONLL_TREES = sorted(nltk.corpus.conll2000.chunked_sents('train.txt'), key=len)"
   ]
  },
  {
   "cell_type": "code",
   "execution_count": 4,
   "metadata": {},
   "outputs": [],
   "source": [
    "SAMPLE = CONLL_TREES[1000]"
   ]
  },
  {
   "cell_type": "code",
   "execution_count": 5,
   "metadata": {},
   "outputs": [
    {
     "data": {
      "image/png": "[encoded data removed]",
      "text/plain": [
       "Tree('S', [Tree('NP', [('The', 'DT'), ('suit', 'NN')]), Tree('VP', [('is', 'VBZ')]), ('still', 'RB'), ('pending', 'VBG'), Tree('PP', [('in', 'IN')]), Tree('NP', [('Illinois', 'NNP'), ('state', 'NN'), ('court', 'NN')]), ('.', '.')])"
      ]
     },
     "execution_count": 5,
     "metadata": {},
     "output_type": "execute_result"
    }
   ],
   "source": [
    "SAMPLE"
   ]
  },
  {
   "cell_type": "markdown",
   "metadata": {},
   "source": [
    "### Conversion to IOB Tags\n",
    "\n",
    "A tree can easily be converted by calling the `nltk.chunk.tree2conlltags` function."
   ]
  },
  {
   "cell_type": "code",
   "execution_count": 6,
   "metadata": {},
   "outputs": [
    {
     "data": {
      "text/plain": [
       "[('The', 'DT', 'B-NP'),\n",
       " ('suit', 'NN', 'I-NP'),\n",
       " ('is', 'VBZ', 'B-VP'),\n",
       " ('still', 'RB', 'O'),\n",
       " ('pending', 'VBG', 'O'),\n",
       " ('in', 'IN', 'B-PP'),\n",
       " ('Illinois', 'NNP', 'B-NP'),\n",
       " ('state', 'NN', 'I-NP'),\n",
       " ('court', 'NN', 'I-NP'),\n",
       " ('.', '.', 'O')]"
      ]
     },
     "execution_count": 6,
     "metadata": {},
     "output_type": "execute_result"
    }
   ],
   "source": [
    "SAMPLE_IOB = nltk.chunk.tree2conlltags(SAMPLE)\n",
    "SAMPLE_IOB"
   ]
  },
  {
   "cell_type": "markdown",
   "metadata": {},
   "source": [
    "### Conversion to Tree\n",
    "\n",
    "To convert the IOB Tags to the tree format, the `nltk.chunk.conlltags2tree` can be used."
   ]
  },
  {
   "cell_type": "code",
   "execution_count": 7,
   "metadata": {},
   "outputs": [
    {
     "data": {
      "image/png": "[encoded data removed]",
      "text/plain": [
       "Tree('S', [Tree('NP', [('The', 'DT'), ('suit', 'NN')]), Tree('VP', [('is', 'VBZ')]), ('still', 'RB'), ('pending', 'VBG'), Tree('PP', [('in', 'IN')]), Tree('NP', [('Illinois', 'NNP'), ('state', 'NN'), ('court', 'NN')]), ('.', '.')])"
      ]
     },
     "execution_count": 7,
     "metadata": {},
     "output_type": "execute_result"
    }
   ],
   "source": [
    "nltk.chunk.conlltags2tree(SAMPLE_IOB)"
   ]
  },
  {
   "cell_type": "markdown",
   "metadata": {},
   "source": [
    "### Removing the some information\n",
    "\n",
    "If there is a need to remove information in the IOB data, the data can easily be iterated on as it is just a list of tuple. This is useful for creating training data and for reusing POS taggers for chunking."
   ]
  },
  {
   "cell_type": "code",
   "execution_count": 8,
   "metadata": {},
   "outputs": [
    {
     "data": {
      "text/plain": [
       "[('The', 'DT'),\n",
       " ('suit', 'NN'),\n",
       " ('is', 'VBZ'),\n",
       " ('still', 'RB'),\n",
       " ('pending', 'VBG'),\n",
       " ('in', 'IN'),\n",
       " ('Illinois', 'NNP'),\n",
       " ('state', 'NN'),\n",
       " ('court', 'NN'),\n",
       " ('.', '.')]"
      ]
     },
     "execution_count": 8,
     "metadata": {},
     "output_type": "execute_result"
    }
   ],
   "source": [
    "SAMPLE_POS = [(w, pos) for w, pos, iob in SAMPLE_IOB]\n",
    "SAMPLE_POS"
   ]
  },
  {
   "cell_type": "markdown",
   "metadata": {},
   "source": [
    "## Rule Based Chunking\n",
    "\n",
    "The `nltk.RegexpParser` can be used to provide a regex rule that will be used to match a phrase label. NLTK also allows the inversion of the patterns to allow chinking"
   ]
  },
  {
   "cell_type": "markdown",
   "metadata": {},
   "source": [
    "### Chunking Rules\n",
    "\n",
    "Multiple rules can be defined to assign to a phrase label. These two examples however, can already show how tedious creating rules are for tagging"
   ]
  },
  {
   "cell_type": "code",
   "execution_count": 9,
   "metadata": {},
   "outputs": [
    {
     "data": {
      "image/png": "[encoded data removed]",
      "text/plain": [
       "Tree('S', [Tree('NP', [('The', 'DT'), ('suit', 'NN')]), ('is', 'VBZ'), ('still', 'RB'), ('pending', 'VBG'), ('in', 'IN'), ('Illinois', 'NNP'), ('state', 'NN'), ('court', 'NN'), ('.', '.')])"
      ]
     },
     "execution_count": 9,
     "metadata": {},
     "output_type": "execute_result"
    }
   ],
   "source": [
    "grammar = r\"\"\"\n",
    "    NP: {<DT><NN>}\n",
    "\"\"\"\n",
    "chunker = nltk.RegexpParser(grammar)\n",
    "chunker.parse(SAMPLE_POS)"
   ]
  },
  {
   "cell_type": "code",
   "execution_count": 10,
   "metadata": {},
   "outputs": [
    {
     "data": {
      "image/png": "[encoded data removed]",
      "text/plain": [
       "Tree('S', [Tree('NP', [('The', 'DT'), ('suit', 'NN')]), ('is', 'VBZ'), ('still', 'RB'), ('pending', 'VBG'), ('in', 'IN'), Tree('NP', [('Illinois', 'NNP'), ('state', 'NN'), ('court', 'NN')]), ('.', '.')])"
      ]
     },
     "execution_count": 10,
     "metadata": {},
     "output_type": "execute_result"
    }
   ],
   "source": [
    "grammar = r\"\"\"\n",
    "    NP: {<DT><NN>}\n",
    "        {<NNP><NN>+}\n",
    "\"\"\"\n",
    "chunker = nltk.RegexpParser(grammar)\n",
    "chunker.parse(SAMPLE_POS)"
   ]
  },
  {
   "cell_type": "markdown",
   "metadata": {},
   "source": [
    "### Chinking Rules\n",
    "\n",
    "A chinking rule can be defined by inverting the brackets the surrounds the regular expression."
   ]
  },
  {
   "cell_type": "code",
   "execution_count": 11,
   "metadata": {},
   "outputs": [
    {
     "data": {
      "image/png": "[encoded data removed]",
      "text/plain": [
       "Tree('S', [Tree('NP', [('The', 'DT'), ('suit', 'NN')]), ('is', 'VBZ'), ('still', 'RB'), ('pending', 'VBG'), ('in', 'IN'), Tree('NP', [('Illinois', 'NNP'), ('state', 'NN'), ('court', 'NN'), ('.', '.')])])"
      ]
     },
     "execution_count": 11,
     "metadata": {},
     "output_type": "execute_result"
    }
   ],
   "source": [
    "grammar = r\"\"\"\n",
    "    NP: {<.*>+}             # Chunk everything\n",
    "        }<VBZ|RB|VBG|IN>{   # Remove everything in between\n",
    "\"\"\"\n",
    "chunker = nltk.RegexpParser(grammar)\n",
    "chunker.parse(SAMPLE_POS)"
   ]
  },
  {
   "cell_type": "markdown",
   "metadata": {},
   "source": [
    "## Machine Learning Base Chunking\n",
    "\n",
    "The N-gram chunkers and CRF chunkers will be utilized in this part to show how data driven models can be created for chunking"
   ]
  },
  {
   "cell_type": "markdown",
   "metadata": {},
   "source": [
    "### Loading and Splitting the Data\n",
    "\n",
    "The data is split to train and and test. A validation won't be created since the models won't be optimized here. The goal is to only show how a basic implementation of the algorithms will generalize\n",
    "\n",
    "*   TRAIN: 80%\n",
    "*   TEST: 20% "
   ]
  },
  {
   "cell_type": "code",
   "execution_count": 12,
   "metadata": {},
   "outputs": [
    {
     "data": {
      "text/plain": [
       "(7148, 1788)"
      ]
     },
     "execution_count": 12,
     "metadata": {},
     "output_type": "execute_result"
    }
   ],
   "source": [
    "CONLL2000_DATA = nltk.corpus.conll2000.chunked_sents('train.txt', chunk_types=['NP'])\n",
    "CONLL2000_TRAIN, CONLL2000_TEST = train_test_split(CONLL2000_DATA, test_size=0.2, random_state=0)\n",
    "len(CONLL2000_TRAIN), len(CONLL2000_TEST)"
   ]
  },
  {
   "cell_type": "markdown",
   "metadata": {},
   "source": [
    "### Baseline Models\n",
    "\n",
    "The performance of a no tag output and a simple rule that labels any sequence of POS tags that starts with D or N as NP are evaluated so have a view on the performance of baseline chunkers"
   ]
  },
  {
   "cell_type": "code",
   "execution_count": 13,
   "metadata": {},
   "outputs": [
    {
     "name": "stdout",
     "output_type": "stream",
     "text": [
      "ChunkParse score:\n",
      "    IOB Accuracy:  44.1%%\n",
      "    Precision:      0.0%%\n",
      "    Recall:         0.0%%\n",
      "    F-Measure:      0.0%%\n"
     ]
    }
   ],
   "source": [
    "grammar = r\"\"\"\"\"\"\n",
    "chunker = nltk.RegexpParser(grammar)\n",
    "print(chunker.evaluate(CONLL2000_TEST))"
   ]
  },
  {
   "cell_type": "code",
   "execution_count": 14,
   "metadata": {},
   "outputs": [
    {
     "name": "stdout",
     "output_type": "stream",
     "text": [
      "ChunkParse score:\n",
      "    IOB Accuracy:  73.0%%\n",
      "    Precision:     50.7%%\n",
      "    Recall:        48.7%%\n",
      "    F-Measure:     49.7%%\n"
     ]
    }
   ],
   "source": [
    "grammar = r\"\"\"\n",
    "    NP: {<[DN].*>+}\n",
    "\"\"\"\n",
    "chunker = nltk.RegexpParser(grammar)\n",
    "print(chunker.evaluate(CONLL2000_TEST))"
   ]
  },
  {
   "cell_type": "markdown",
   "metadata": {},
   "source": [
    "### Helper Functions\n",
    "\n",
    "While its easy to work with NLTK provided functionalities, in this part several helper functions are provided to utilize taggers as chunckers and to allow the usage of the data into other machine learning libraries.\n",
    "\n",
    "*   `to_ngram_fmt`: Converts the data for the use of N-gram taggers as chunkers. Transforms the data to (pos_tags, iob) or pos_tags depending on the label flag.\n",
    "*   `to_crf_fmt`: Converts the data for the use of CRF tagger as chunkers. Transforms the data to ((word, pos_tags), iob) or (word, pos_tags) depending on the label_flag\n",
    "*   `to_evaluate`: Takes all of the iob_tags and flattens the resulting array for use of Scikit-Learn metrics functions."
   ]
  },
  {
   "cell_type": "code",
   "execution_count": 15,
   "metadata": {},
   "outputs": [],
   "source": [
    "def to_ngram_fmt(data, label=True):\n",
    "    if label:\n",
    "        return [\n",
    "            [(pos, iob) for w, pos, iob in nltk.chunk.tree2conlltags(s)]\n",
    "            for s in data\n",
    "        ]\n",
    "    else:\n",
    "        return [\n",
    "            [pos for w, pos, iob in nltk.chunk.tree2conlltags(s)]\n",
    "            for s in data\n",
    "        ]\n",
    "\n",
    "def to_crf_fmt(data, label=True):\n",
    "    if label:\n",
    "        return [\n",
    "            [((w, pos), iob) for w, pos, iob in nltk.chunk.tree2conlltags(s)]\n",
    "            for s in data\n",
    "        ]\n",
    "    else:\n",
    "        return [\n",
    "            [(w, pos) for w, pos, phr in nltk.chunk.tree2conlltags(s)]\n",
    "            for s in data\n",
    "        ]\n",
    "    \n",
    "def to_evaluate(data):\n",
    "    return [\n",
    "        w[-1]\n",
    "        for s in data\n",
    "        for w in (nltk.chunk.tree2conlltags(s) if isinstance(s, nltk.tree.Tree) else s)\n",
    "    ]"
   ]
  },
  {
   "cell_type": "markdown",
   "metadata": {},
   "source": [
    "### N-Gram Chunkers\n",
    "\n",
    "Instead of using the taggers to tag POS tags, the words are replaced by the POS Tags sa features and the POS Tags are replaced by the IOB tags as targets. This transformation to the data is done sing the `to_ngram_fmt` helper function."
   ]
  },
  {
   "cell_type": "code",
   "execution_count": 16,
   "metadata": {},
   "outputs": [
    {
     "name": "stdout",
     "output_type": "stream",
     "text": [
      "              precision    recall  f1-score   support\n",
      "\n",
      "        B-NP       0.94      0.52      0.67     11130\n",
      "        I-NP       0.68      0.92      0.78     12684\n",
      "           O       0.94      0.96      0.95     18757\n",
      "\n",
      "    accuracy                           0.83     42571\n",
      "   macro avg       0.85      0.80      0.80     42571\n",
      "weighted avg       0.86      0.83      0.83     42571\n",
      "\n"
     ]
    }
   ],
   "source": [
    "chunker = nltk.UnigramTagger(to_ngram_fmt(CONLL2000_TRAIN))\n",
    "iob_predict = chunker.tag_sents(to_ngram_fmt(CONLL2000_TEST, label=False))\n",
    "print(classification_report(to_evaluate(CONLL2000_TEST), to_evaluate(iob_predict)))"
   ]
  },
  {
   "cell_type": "code",
   "execution_count": 17,
   "metadata": {},
   "outputs": [
    {
     "name": "stdout",
     "output_type": "stream",
     "text": [
      "              precision    recall  f1-score   support\n",
      "\n",
      "        B-NP       0.89      0.94      0.92     11130\n",
      "        I-NP       0.95      0.89      0.92     12684\n",
      "           O       0.95      0.96      0.95     18757\n",
      "\n",
      "    accuracy                           0.93     42571\n",
      "   macro avg       0.93      0.93      0.93     42571\n",
      "weighted avg       0.93      0.93      0.93     42571\n",
      "\n"
     ]
    }
   ],
   "source": [
    "chunker = nltk.BigramTagger(to_ngram_fmt(CONLL2000_TRAIN))\n",
    "iob_predict = chunker.tag_sents(to_ngram_fmt(CONLL2000_TEST, label=False))\n",
    "print(classification_report(to_evaluate(CONLL2000_TEST), to_evaluate(iob_predict)))"
   ]
  },
  {
   "cell_type": "markdown",
   "metadata": {},
   "source": [
    "### CRF Chunker\n",
    "\n",
    "To utilize the CRF chunker, instead of passing a word, the word will be replaced by a tuple of word and POS tags. Since the CFR now accepts a different data than the default (word only), the definition of a function that creates the features is required. \n",
    "\n",
    "The data is converted into this tuple format using the `to_crf_fmt` function. The CRF feature function should then be able to work with this kind of data format, treating each token as a tuple."
   ]
  },
  {
   "cell_type": "code",
   "execution_count": 18,
   "metadata": {},
   "outputs": [],
   "source": [
    "def custom_crf_features(tokens, idx):\n",
    "    feature_list = []\n",
    "    \n",
    "    # NEIGHBOR TAGS\n",
    "    feature_list.append(f'TAG_{tokens[idx][1]}')\n",
    "    try:\n",
    "        feature_list.append(f'TAG-1_{tokens[idx-1][1]}')\n",
    "    except IndexError:\n",
    "        pass\n",
    "    try:\n",
    "        feature_list.append(f'TAG+1_{tokens[idx+1][1]}')\n",
    "    except IndexError:\n",
    "        pass\n",
    "    try:\n",
    "        feature_list.append(f'TAG-1+1_{tokens[idx-1][1]}_{tokens[idx+1][1]}')\n",
    "    except IndexError:\n",
    "        pass\n",
    "                \n",
    "    return feature_list"
   ]
  },
  {
   "cell_type": "code",
   "execution_count": 19,
   "metadata": {},
   "outputs": [
    {
     "name": "stdout",
     "output_type": "stream",
     "text": [
      "              precision    recall  f1-score   support\n",
      "\n",
      "        B-NP       0.95      0.95      0.95     11130\n",
      "        I-NP       0.95      0.95      0.95     12684\n",
      "           O       0.97      0.98      0.97     18757\n",
      "\n",
      "    accuracy                           0.96     42571\n",
      "   macro avg       0.96      0.96      0.96     42571\n",
      "weighted avg       0.96      0.96      0.96     42571\n",
      "\n"
     ]
    }
   ],
   "source": [
    "chunker = nltk.crf.CRFTagger(feature_func=custom_crf_features)\n",
    "chunker.train(to_crf_fmt(CONLL2000_TRAIN), 'crf_chunker.tag')\n",
    "iob_predict = chunker.tag_sents(to_crf_fmt(CONLL2000_TEST, label=False))\n",
    "print(classification_report(to_evaluate(CONLL2000_TEST), to_evaluate(iob_predict)))"
   ]
  },
  {
   "cell_type": "markdown",
   "metadata": {},
   "source": [
    "## Named Entity Recognition\n",
    "\n",
    "While tagging noun phrases using the POS tags may provide good results, named entity recognition goes another hierarchy in detail. The impact of word features can be see to improve the result significantly as they provide more context into the word in use."
   ]
  },
  {
   "cell_type": "code",
   "execution_count": 20,
   "metadata": {},
   "outputs": [
    {
     "data": {
      "text/plain": [
       "(6658, 1665)"
      ]
     },
     "execution_count": 20,
     "metadata": {},
     "output_type": "execute_result"
    }
   ],
   "source": [
    "CONLL2002_DATA = nltk.corpus.conll2002.chunked_sents('esp.train')\n",
    "CONLL2002_TRAIN, CONLL2002_TEST = train_test_split(CONLL2002_DATA, test_size=0.2, random_state=0)\n",
    "len(CONLL2002_TRAIN), len(CONLL2002_TEST)"
   ]
  },
  {
   "cell_type": "code",
   "execution_count": 21,
   "metadata": {},
   "outputs": [],
   "source": [
    "def ner_tag_features(tokens, idx):\n",
    "    feature_list = []\n",
    "    \n",
    "    # NEIGHBOR TAGS\n",
    "    feature_list.append(f'TAG_{tokens[idx][1]}')\n",
    "    try:\n",
    "        feature_list.append(f'TAG-1_{tokens[idx-1][1]}')\n",
    "    except IndexError:\n",
    "        pass\n",
    "    try:\n",
    "        feature_list.append(f'TAG+1_{tokens[idx+1][1]}')\n",
    "    except IndexError:\n",
    "        pass\n",
    "    try:\n",
    "        feature_list.append(f'TAG-1+1_{tokens[idx-1][1]}_{tokens[idx+1][1]}')\n",
    "    except IndexError:\n",
    "        pass\n",
    "                \n",
    "    return feature_list"
   ]
  },
  {
   "cell_type": "code",
   "execution_count": 22,
   "metadata": {},
   "outputs": [
    {
     "name": "stdout",
     "output_type": "stream",
     "text": [
      "              precision    recall  f1-score   support\n",
      "\n",
      "       B-LOC       0.60      0.14      0.23      1012\n",
      "      B-MISC       0.17      0.00      0.01       435\n",
      "       B-ORG       0.60      0.22      0.32      1430\n",
      "       B-PER       0.67      0.48      0.56       824\n",
      "       I-LOC       0.67      0.05      0.09       394\n",
      "      I-MISC       0.28      0.03      0.05       565\n",
      "       I-ORG       0.47      0.15      0.23       953\n",
      "       I-PER       0.68      0.63      0.66       688\n",
      "           O       0.91      0.99      0.95     46031\n",
      "\n",
      "    accuracy                           0.90     52332\n",
      "   macro avg       0.56      0.30      0.34     52332\n",
      "weighted avg       0.87      0.90      0.87     52332\n",
      "\n"
     ]
    }
   ],
   "source": [
    "chunker = nltk.crf.CRFTagger(feature_func=ner_tag_features)\n",
    "chunker.train(to_crf_fmt(CONLL2002_TRAIN), 'crf_ner_tag.tag')\n",
    "iob_predict = chunker.tag_sents(to_crf_fmt(CONLL2002_TEST, label=False))\n",
    "print(classification_report(to_evaluate(CONLL2002_TEST), to_evaluate(iob_predict)))"
   ]
  },
  {
   "cell_type": "code",
   "execution_count": 23,
   "metadata": {},
   "outputs": [
    {
     "data": {
      "text/plain": [
       "array([[  142,     0,    75,    23,     0,     4,    19,    16,   733],\n",
       "       [    1,     2,    30,     8,     0,     1,     3,     2,   388],\n",
       "       [   24,     2,   310,    56,     1,     0,     8,     7,  1022],\n",
       "       [   30,     0,    13,   398,     0,     0,     5,    27,   351],\n",
       "       [    1,     0,     3,     1,    18,     4,    16,    17,   334],\n",
       "       [    0,     1,     6,     5,     0,    16,    21,    12,   504],\n",
       "       [    4,     2,    15,     6,     3,     3,   142,    35,   743],\n",
       "       [    1,     0,     0,     4,     2,     0,     5,   435,   241],\n",
       "       [   34,     5,    61,    90,     3,    29,    82,    88, 45639]])"
      ]
     },
     "execution_count": 23,
     "metadata": {},
     "output_type": "execute_result"
    }
   ],
   "source": [
    "confusion_matrix(to_evaluate(CONLL2002_TEST), to_evaluate(iob_predict))"
   ]
  },
  {
   "cell_type": "code",
   "execution_count": 24,
   "metadata": {},
   "outputs": [],
   "source": [
    "def ner_tag_word_features(tokens, idx):\n",
    "    feature_list = []\n",
    "    \n",
    "    # NEIGHBOR TAGS\n",
    "    feature_list.append(f'TAG_{tokens[idx][1]}')\n",
    "    try:\n",
    "        feature_list.append(f'TAG-1_{tokens[idx-1][1]}')\n",
    "    except IndexError:\n",
    "        pass\n",
    "    try:\n",
    "        feature_list.append(f'TAG+1_{tokens[idx+1][1]}')\n",
    "    except IndexError:\n",
    "        pass\n",
    "    try:\n",
    "        feature_list.append(f'TAG-1+1_{tokens[idx-1][1]}_{tokens[idx+1][1]}')\n",
    "    except IndexError:\n",
    "        pass\n",
    "    \n",
    "    # WORDS\n",
    "    feature_list.append(f'WORD_{tokens[idx][0]}')\n",
    "    try:\n",
    "        feature_list.append(f'WORD-1_{tokens[idx-1][0]}')\n",
    "    except IndexError:\n",
    "        pass\n",
    "    try:\n",
    "        feature_list.append(f'WORD+1_{tokens[idx+1][0]}')\n",
    "    except IndexError:\n",
    "        pass\n",
    "    \n",
    "    # SUFFIX\n",
    "    token = tokens[idx][0]\n",
    "    if len(token) > 1:\n",
    "        feature_list.append(\"SUF_\" + token[-1:])\n",
    "    if len(token) > 2:\n",
    "        feature_list.append(\"SUF_\" + token[-2:])\n",
    "    if len(token) > 3:\n",
    "        feature_list.append(\"SUF_\" + token[-3:])\n",
    "            \n",
    "    return feature_list"
   ]
  },
  {
   "cell_type": "code",
   "execution_count": 25,
   "metadata": {},
   "outputs": [
    {
     "name": "stdout",
     "output_type": "stream",
     "text": [
      "              precision    recall  f1-score   support\n",
      "\n",
      "       B-LOC       0.79      0.67      0.72      1012\n",
      "      B-MISC       0.77      0.34      0.48       435\n",
      "       B-ORG       0.86      0.77      0.81      1430\n",
      "       B-PER       0.92      0.78      0.84       824\n",
      "       I-LOC       0.79      0.60      0.68       394\n",
      "      I-MISC       0.71      0.44      0.54       565\n",
      "       I-ORG       0.79      0.79      0.79       953\n",
      "       I-PER       0.93      0.93      0.93       688\n",
      "           O       0.97      0.99      0.98     46031\n",
      "\n",
      "    accuracy                           0.96     52332\n",
      "   macro avg       0.84      0.70      0.75     52332\n",
      "weighted avg       0.96      0.96      0.96     52332\n",
      "\n"
     ]
    }
   ],
   "source": [
    "chunker = nltk.crf.CRFTagger(feature_func=ner_tag_word_features)\n",
    "chunker.train(to_crf_fmt(CONLL2002_TRAIN), 'crf_ner_tag_word.tag')\n",
    "iob_predict = chunker.tag_sents(to_crf_fmt(CONLL2002_TEST, label=False))\n",
    "print(classification_report(to_evaluate(CONLL2002_TEST), to_evaluate(iob_predict)))"
   ]
  },
  {
   "cell_type": "code",
   "execution_count": 26,
   "metadata": {},
   "outputs": [
    {
     "data": {
      "text/plain": [
       "array([[  677,     6,    69,     9,    13,     4,    21,     6,   207],\n",
       "       [   11,   150,    47,    11,     1,     9,     5,     2,   199],\n",
       "       [   78,     8,  1094,    12,     0,     3,    10,     0,   225],\n",
       "       [   31,     2,    20,   640,     1,     2,     5,     9,   114],\n",
       "       [    9,     0,     2,     0,   235,    19,    41,     4,    84],\n",
       "       [   14,     8,    11,     1,    10,   246,    42,     9,   224],\n",
       "       [    6,     5,     8,     4,    11,    17,   754,    12,   136],\n",
       "       [    0,     0,     0,     1,     4,     3,    12,   641,    27],\n",
       "       [   35,    17,    27,    18,    23,    44,    63,     7, 45797]])"
      ]
     },
     "execution_count": 26,
     "metadata": {},
     "output_type": "execute_result"
    }
   ],
   "source": [
    "confusion_matrix(to_evaluate(CONLL2002_TEST), to_evaluate(iob_predict))"
   ]
  }
 ],
 "metadata": {
  "kernelspec": {
   "display_name": "Python 3",
   "language": "python",
   "name": "python3"
  },
  "language_info": {
   "codemirror_mode": {
    "name": "ipython",
    "version": 3
   },
   "file_extension": ".py",
   "mimetype": "text/x-python",
   "name": "python",
   "nbconvert_exporter": "python",
   "pygments_lexer": "ipython3",
   "version": "3.7.6"
  }
 },
 "nbformat": 4,
 "nbformat_minor": 4
}
