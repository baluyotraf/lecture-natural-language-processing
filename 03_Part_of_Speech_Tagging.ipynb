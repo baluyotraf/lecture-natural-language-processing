{
 "cells": [
  {
   "cell_type": "markdown",
   "metadata": {},
   "source": [
    "# Parts of Speech Tagging\n",
    "\n",
    "This notebook provides an introdiction on how to perform parts of speech tagging on Python using NLTK\n",
    "\n",
    "The notebook contains information on how to use the following algorithms\n",
    "\n",
    "*   N-Gram Taggers and Backoffs\n",
    "*   Averaged Perceptron Tagger\n",
    "*   Hidden Markov Model\n",
    "*   Conditional Random Fields"
   ]
  },
  {
   "cell_type": "markdown",
   "metadata": {},
   "source": [
    "## Initialize NLTK\n",
    "\n",
    "Download some of the resources that NLTK needs"
   ]
  },
  {
   "cell_type": "code",
   "execution_count": 1,
   "metadata": {},
   "outputs": [
    {
     "data": {
      "text/plain": [
       "True"
      ]
     },
     "execution_count": 1,
     "metadata": {},
     "output_type": "execute_result"
    }
   ],
   "source": [
    "import nltk\n",
    "nltk.download('book', quiet=True)"
   ]
  },
  {
   "cell_type": "markdown",
   "metadata": {},
   "source": [
    "## Load the tagged dataset\n",
    "\n",
    "NLTK's built in loader will be used to load the Treebank corpus. The Treebank corpus is a tagged dataset containing the parts of speech per word. This labeled dataset shall be used to evaluate the algorithms for automatic tagging.\n",
    "\n",
    "NLTK returns a list of tuples after reading the data. The tuple contains two elements, the word and the tag respectively.\n",
    "\n",
    "The dataset is also split in a 80-20 ratio. The first split is used for allowing the algorithms to discover the patterns in tagging while the second split is used to evaluate the tagger on sentences it has not seen."
   ]
  },
  {
   "cell_type": "code",
   "execution_count": 2,
   "metadata": {},
   "outputs": [],
   "source": [
    "DATA = nltk.corpus.treebank.sents()\n",
    "DATA_TAGGED = nltk.corpus.treebank.tagged_sents()"
   ]
  },
  {
   "cell_type": "code",
   "execution_count": 3,
   "metadata": {},
   "outputs": [],
   "source": [
    "train_split = int(len(DATA_TAGGED) * 0.80)\n",
    "DATA_TRAIN = DATA_TAGGED[:train_split]\n",
    "DATA_TEST = DATA_TAGGED[train_split:]"
   ]
  },
  {
   "cell_type": "code",
   "execution_count": 4,
   "metadata": {},
   "outputs": [
    {
     "data": {
      "text/plain": [
       "(3914, 3914, 3131, 783)"
      ]
     },
     "execution_count": 4,
     "metadata": {},
     "output_type": "execute_result"
    }
   ],
   "source": [
    "len(DATA), len(DATA_TAGGED), len(DATA_TRAIN), len(DATA_TEST)"
   ]
  },
  {
   "cell_type": "markdown",
   "metadata": {},
   "source": [
    "## N-Gram Taggers\n",
    "\n",
    "N-Gram taggers counts the number of N consecutive tokens and assigns the most common occurence to resolve tagging ambiguity."
   ]
  },
  {
   "cell_type": "markdown",
   "metadata": {},
   "source": [
    "### Unigram Taggers\n",
    "\n",
    "A unigram tagger is an N-Gram with N = 1. This is similar to the baseline implementation of resolving tagging ambiguity"
   ]
  },
  {
   "cell_type": "code",
   "execution_count": 5,
   "metadata": {},
   "outputs": [],
   "source": [
    "unigram_tagger = nltk.tag.UnigramTagger(DATA_TRAIN)"
   ]
  },
  {
   "cell_type": "code",
   "execution_count": 6,
   "metadata": {},
   "outputs": [
    {
     "data": {
      "text/plain": [
       "0.8608213982733669"
      ]
     },
     "execution_count": 6,
     "metadata": {},
     "output_type": "execute_result"
    }
   ],
   "source": [
    "unigram_tagger.evaluate(DATA_TEST)"
   ]
  },
  {
   "cell_type": "code",
   "execution_count": 7,
   "metadata": {},
   "outputs": [
    {
     "data": {
      "text/plain": [
       "[[('Pierre', 'NNP'),\n",
       "  ('Vinken', 'NNP'),\n",
       "  (',', ','),\n",
       "  ('61', 'CD'),\n",
       "  ('years', 'NNS'),\n",
       "  ('old', 'JJ'),\n",
       "  (',', ','),\n",
       "  ('will', 'MD'),\n",
       "  ('join', 'VB'),\n",
       "  ('the', 'DT'),\n",
       "  ('board', 'NN'),\n",
       "  ('as', 'IN'),\n",
       "  ('a', 'DT'),\n",
       "  ('nonexecutive', 'JJ'),\n",
       "  ('director', 'NN'),\n",
       "  ('Nov.', 'NNP'),\n",
       "  ('29', 'CD'),\n",
       "  ('.', '.')],\n",
       " [('Mr.', 'NNP'),\n",
       "  ('Vinken', 'NNP'),\n",
       "  ('is', 'VBZ'),\n",
       "  ('chairman', 'NN'),\n",
       "  ('of', 'IN'),\n",
       "  ('Elsevier', 'NNP'),\n",
       "  ('N.V.', 'NNP'),\n",
       "  (',', ','),\n",
       "  ('the', 'DT'),\n",
       "  ('Dutch', 'JJ'),\n",
       "  ('publishing', 'NN'),\n",
       "  ('group', 'NN'),\n",
       "  ('.', '.')],\n",
       " [('Rudolph', 'NNP'),\n",
       "  ('Agnew', 'NNP'),\n",
       "  (',', ','),\n",
       "  ('55', 'CD'),\n",
       "  ('years', 'NNS'),\n",
       "  ('old', 'JJ'),\n",
       "  ('and', 'CC'),\n",
       "  ('former', 'JJ'),\n",
       "  ('chairman', 'NN'),\n",
       "  ('of', 'IN'),\n",
       "  ('Consolidated', 'NNP'),\n",
       "  ('Gold', 'NNP'),\n",
       "  ('Fields', 'NNP'),\n",
       "  ('PLC', 'NNP'),\n",
       "  (',', ','),\n",
       "  ('was', 'VBD'),\n",
       "  ('named', 'VBN'),\n",
       "  ('*-1', '-NONE-'),\n",
       "  ('a', 'DT'),\n",
       "  ('nonexecutive', 'JJ'),\n",
       "  ('director', 'NN'),\n",
       "  ('of', 'IN'),\n",
       "  ('this', 'DT'),\n",
       "  ('British', 'JJ'),\n",
       "  ('industrial', 'JJ'),\n",
       "  ('conglomerate', 'NN'),\n",
       "  ('.', '.')],\n",
       " [('A', 'DT'),\n",
       "  ('form', 'NN'),\n",
       "  ('of', 'IN'),\n",
       "  ('asbestos', 'NN'),\n",
       "  ('once', 'RB'),\n",
       "  ('used', 'VBN'),\n",
       "  ('*', '-NONE-'),\n",
       "  ('*', '-NONE-'),\n",
       "  ('to', 'TO'),\n",
       "  ('make', 'VB'),\n",
       "  ('Kent', 'NNP'),\n",
       "  ('cigarette', 'NN'),\n",
       "  ('filters', 'NNS'),\n",
       "  ('has', 'VBZ'),\n",
       "  ('caused', 'VBN'),\n",
       "  ('a', 'DT'),\n",
       "  ('high', 'JJ'),\n",
       "  ('percentage', 'NN'),\n",
       "  ('of', 'IN'),\n",
       "  ('cancer', 'NN'),\n",
       "  ('deaths', 'NNS'),\n",
       "  ('among', 'IN'),\n",
       "  ('a', 'DT'),\n",
       "  ('group', 'NN'),\n",
       "  ('of', 'IN'),\n",
       "  ('workers', 'NNS'),\n",
       "  ('exposed', 'VBN'),\n",
       "  ('*', '-NONE-'),\n",
       "  ('to', 'TO'),\n",
       "  ('it', 'PRP'),\n",
       "  ('more', 'JJR'),\n",
       "  ('than', 'IN'),\n",
       "  ('30', 'CD'),\n",
       "  ('years', 'NNS'),\n",
       "  ('ago', 'RB'),\n",
       "  (',', ','),\n",
       "  ('researchers', 'NNS'),\n",
       "  ('reported', 'VBD'),\n",
       "  ('0', '-NONE-'),\n",
       "  ('*T*-1', '-NONE-'),\n",
       "  ('.', '.')],\n",
       " [('The', 'DT'),\n",
       "  ('asbestos', 'NN'),\n",
       "  ('fiber', 'NN'),\n",
       "  (',', ','),\n",
       "  ('crocidolite', 'NN'),\n",
       "  (',', ','),\n",
       "  ('is', 'VBZ'),\n",
       "  ('unusually', 'RB'),\n",
       "  ('resilient', 'JJ'),\n",
       "  ('once', 'RB'),\n",
       "  ('it', 'PRP'),\n",
       "  ('enters', 'VBZ'),\n",
       "  ('the', 'DT'),\n",
       "  ('lungs', 'NNS'),\n",
       "  (',', ','),\n",
       "  ('with', 'IN'),\n",
       "  ('even', 'RB'),\n",
       "  ('brief', 'JJ'),\n",
       "  ('exposures', 'NNS'),\n",
       "  ('to', 'TO'),\n",
       "  ('it', 'PRP'),\n",
       "  ('causing', 'VBG'),\n",
       "  ('symptoms', 'NNS'),\n",
       "  ('that', 'IN'),\n",
       "  ('*T*-1', '-NONE-'),\n",
       "  ('show', 'NN'),\n",
       "  ('up', 'RP'),\n",
       "  ('decades', 'NNS'),\n",
       "  ('later', 'JJ'),\n",
       "  (',', ','),\n",
       "  ('researchers', 'NNS'),\n",
       "  ('said', 'VBD'),\n",
       "  ('0', '-NONE-'),\n",
       "  ('*T*-2', '-NONE-'),\n",
       "  ('.', '.')]]"
      ]
     },
     "execution_count": 7,
     "metadata": {},
     "output_type": "execute_result"
    }
   ],
   "source": [
    "unigram_tagger.tag_sents(DATA)[:5]"
   ]
  },
  {
   "cell_type": "markdown",
   "metadata": {},
   "source": [
    "### Backoffs\n",
    "\n",
    "To improve the unigram tagger, a backoff can be defined to handle unknown words. Given that most open class words are nouns, a tagger that sets everything into a noun can be used as a backoff"
   ]
  },
  {
   "cell_type": "code",
   "execution_count": 8,
   "metadata": {},
   "outputs": [],
   "source": [
    "default_tagger = nltk.tag.DefaultTagger('NN')\n",
    "unigram_tagger_backoff = nltk.tag.UnigramTagger(DATA_TRAIN, backoff=default_tagger)"
   ]
  },
  {
   "cell_type": "code",
   "execution_count": 9,
   "metadata": {},
   "outputs": [
    {
     "data": {
      "text/plain": [
       "0.9597455262472562"
      ]
     },
     "execution_count": 9,
     "metadata": {},
     "output_type": "execute_result"
    }
   ],
   "source": [
    "unigram_tagger_backoff.evaluate(DATA_TRAIN)"
   ]
  },
  {
   "cell_type": "code",
   "execution_count": 10,
   "metadata": {},
   "outputs": [
    {
     "data": {
      "text/plain": [
       "0.8785368531363841"
      ]
     },
     "execution_count": 10,
     "metadata": {},
     "output_type": "execute_result"
    }
   ],
   "source": [
    "unigram_tagger_backoff.evaluate(DATA_TEST)"
   ]
  },
  {
   "cell_type": "markdown",
   "metadata": {},
   "source": [
    "### Bigram and Trigram Taggers\n",
    "\n",
    "Bigram and Trigram taggers are just generalization of the Unigram tagger. However since it looks for more number of words, they may perform worse on smaller training data sizes."
   ]
  },
  {
   "cell_type": "code",
   "execution_count": 11,
   "metadata": {},
   "outputs": [
    {
     "data": {
      "text/plain": [
       "(0.9118146756451753, 0.1132791057437996)"
      ]
     },
     "execution_count": 11,
     "metadata": {},
     "output_type": "execute_result"
    }
   ],
   "source": [
    "bigram_tagger = nltk.tag.BigramTagger(DATA_TRAIN)\n",
    "bigram_tagger.evaluate(DATA_TRAIN), bigram_tagger.evaluate(DATA_TEST)"
   ]
  },
  {
   "cell_type": "code",
   "execution_count": 12,
   "metadata": {},
   "outputs": [
    {
     "data": {
      "text/plain": [
       "(0.9085531455783326, 0.06736863116922003)"
      ]
     },
     "execution_count": 12,
     "metadata": {},
     "output_type": "execute_result"
    }
   ],
   "source": [
    "trigram_tagger = nltk.tag.TrigramTagger(DATA_TRAIN)\n",
    "trigram_tagger.evaluate(DATA_TRAIN), trigram_tagger.evaluate(DATA_TEST)"
   ]
  },
  {
   "cell_type": "markdown",
   "metadata": {},
   "source": [
    "### Chaining Backoffs\n",
    "\n",
    "To handle the words that Bigrams and Trigrams can not see, similar to Unigram tagger, a backoff can be defined. The backoffs can also have backoffs, creating a chain of model backoffs."
   ]
  },
  {
   "cell_type": "code",
   "execution_count": 13,
   "metadata": {},
   "outputs": [
    {
     "data": {
      "text/plain": [
       "(0.9857509579969493, 0.8849743001147762)"
      ]
     },
     "execution_count": 13,
     "metadata": {},
     "output_type": "execute_result"
    }
   ],
   "source": [
    "bigram_tagger_backoff = nltk.tag.BigramTagger(DATA_TRAIN, backoff=unigram_tagger_backoff)\n",
    "bigram_tagger_backoff.evaluate(DATA_TRAIN), bigram_tagger_backoff.evaluate(DATA_TEST)"
   ]
  },
  {
   "cell_type": "code",
   "execution_count": 14,
   "metadata": {},
   "outputs": [
    {
     "data": {
      "text/plain": [
       "(0.9927948708409291, 0.8844253705274714)"
      ]
     },
     "execution_count": 14,
     "metadata": {},
     "output_type": "execute_result"
    }
   ],
   "source": [
    "trigram_tagger_backoff = nltk.tag.TrigramTagger(DATA_TRAIN, backoff=bigram_tagger_backoff)\n",
    "trigram_tagger_backoff.evaluate(DATA_TRAIN), trigram_tagger_backoff.evaluate(DATA_TEST)"
   ]
  },
  {
   "cell_type": "markdown",
   "metadata": {},
   "source": [
    "## Averaged Perceptron Tagger\n",
    "\n",
    "The averaged perceptron tagger is based on an [article by Matthew Honnibal](https://explosion.ai/blog/part-of-speech-pos-tagger-in-python).\n",
    "\n",
    "As of `3.5` NLTK uses the Averaged Perceptron Tagger as its default tagger. Thus, using `nltk.pos_tag` and `nltk.pos_tag_sents` defaults to it. However, the algorithm can also be invoked explicitly."
   ]
  },
  {
   "cell_type": "markdown",
   "metadata": {},
   "source": [
    "### Pretrained Model\n",
    "\n",
    "NLTK provides a trained model for Averaged Perceptron Tagger which means it can be used without any training. The pretrained model uses the Penn Treebank tagset, thus to evaluate, make sure that the test data has the same tagset."
   ]
  },
  {
   "cell_type": "code",
   "execution_count": 15,
   "metadata": {},
   "outputs": [
    {
     "data": {
      "text/plain": [
       "[[('Pierre', 'NNP'),\n",
       "  ('Vinken', 'NNP'),\n",
       "  (',', ','),\n",
       "  ('61', 'CD'),\n",
       "  ('years', 'NNS'),\n",
       "  ('old', 'JJ'),\n",
       "  (',', ','),\n",
       "  ('will', 'MD'),\n",
       "  ('join', 'VB'),\n",
       "  ('the', 'DT'),\n",
       "  ('board', 'NN'),\n",
       "  ('as', 'IN'),\n",
       "  ('a', 'DT'),\n",
       "  ('nonexecutive', 'JJ'),\n",
       "  ('director', 'NN'),\n",
       "  ('Nov.', 'NNP'),\n",
       "  ('29', 'CD'),\n",
       "  ('.', '.')],\n",
       " [('Mr.', 'NNP'),\n",
       "  ('Vinken', 'NNP'),\n",
       "  ('is', 'VBZ'),\n",
       "  ('chairman', 'NN'),\n",
       "  ('of', 'IN'),\n",
       "  ('Elsevier', 'NNP'),\n",
       "  ('N.V.', 'NNP'),\n",
       "  (',', ','),\n",
       "  ('the', 'DT'),\n",
       "  ('Dutch', 'NNP'),\n",
       "  ('publishing', 'NN'),\n",
       "  ('group', 'NN'),\n",
       "  ('.', '.')],\n",
       " [('Rudolph', 'NNP'),\n",
       "  ('Agnew', 'NNP'),\n",
       "  (',', ','),\n",
       "  ('55', 'CD'),\n",
       "  ('years', 'NNS'),\n",
       "  ('old', 'JJ'),\n",
       "  ('and', 'CC'),\n",
       "  ('former', 'JJ'),\n",
       "  ('chairman', 'NN'),\n",
       "  ('of', 'IN'),\n",
       "  ('Consolidated', 'NNP'),\n",
       "  ('Gold', 'NNP'),\n",
       "  ('Fields', 'NNP'),\n",
       "  ('PLC', 'NNP'),\n",
       "  (',', ','),\n",
       "  ('was', 'VBD'),\n",
       "  ('named', 'VBN'),\n",
       "  ('*-1', 'JJ'),\n",
       "  ('a', 'DT'),\n",
       "  ('nonexecutive', 'JJ'),\n",
       "  ('director', 'NN'),\n",
       "  ('of', 'IN'),\n",
       "  ('this', 'DT'),\n",
       "  ('British', 'JJ'),\n",
       "  ('industrial', 'JJ'),\n",
       "  ('conglomerate', 'NN'),\n",
       "  ('.', '.')],\n",
       " [('A', 'DT'),\n",
       "  ('form', 'NN'),\n",
       "  ('of', 'IN'),\n",
       "  ('asbestos', 'NN'),\n",
       "  ('once', 'RB'),\n",
       "  ('used', 'VBD'),\n",
       "  ('*', 'JJ'),\n",
       "  ('*', 'NN'),\n",
       "  ('to', 'TO'),\n",
       "  ('make', 'VB'),\n",
       "  ('Kent', 'NNP'),\n",
       "  ('cigarette', 'NN'),\n",
       "  ('filters', 'NNS'),\n",
       "  ('has', 'VBZ'),\n",
       "  ('caused', 'VBN'),\n",
       "  ('a', 'DT'),\n",
       "  ('high', 'JJ'),\n",
       "  ('percentage', 'NN'),\n",
       "  ('of', 'IN'),\n",
       "  ('cancer', 'NN'),\n",
       "  ('deaths', 'NNS'),\n",
       "  ('among', 'IN'),\n",
       "  ('a', 'DT'),\n",
       "  ('group', 'NN'),\n",
       "  ('of', 'IN'),\n",
       "  ('workers', 'NNS'),\n",
       "  ('exposed', 'VBN'),\n",
       "  ('*', 'RB'),\n",
       "  ('to', 'TO'),\n",
       "  ('it', 'PRP'),\n",
       "  ('more', 'JJR'),\n",
       "  ('than', 'IN'),\n",
       "  ('30', 'CD'),\n",
       "  ('years', 'NNS'),\n",
       "  ('ago', 'RB'),\n",
       "  (',', ','),\n",
       "  ('researchers', 'NNS'),\n",
       "  ('reported', 'VBD'),\n",
       "  ('0', 'CD'),\n",
       "  ('*T*-1', 'NN'),\n",
       "  ('.', '.')],\n",
       " [('The', 'DT'),\n",
       "  ('asbestos', 'NN'),\n",
       "  ('fiber', 'NN'),\n",
       "  (',', ','),\n",
       "  ('crocidolite', 'NN'),\n",
       "  (',', ','),\n",
       "  ('is', 'VBZ'),\n",
       "  ('unusually', 'RB'),\n",
       "  ('resilient', 'JJ'),\n",
       "  ('once', 'IN'),\n",
       "  ('it', 'PRP'),\n",
       "  ('enters', 'VBZ'),\n",
       "  ('the', 'DT'),\n",
       "  ('lungs', 'NNS'),\n",
       "  (',', ','),\n",
       "  ('with', 'IN'),\n",
       "  ('even', 'RB'),\n",
       "  ('brief', 'JJ'),\n",
       "  ('exposures', 'NNS'),\n",
       "  ('to', 'TO'),\n",
       "  ('it', 'PRP'),\n",
       "  ('causing', 'VBG'),\n",
       "  ('symptoms', 'NNS'),\n",
       "  ('that', 'IN'),\n",
       "  ('*T*-1', 'NN'),\n",
       "  ('show', 'VBP'),\n",
       "  ('up', 'RP'),\n",
       "  ('decades', 'NNS'),\n",
       "  ('later', 'RB'),\n",
       "  (',', ','),\n",
       "  ('researchers', 'NNS'),\n",
       "  ('said', 'VBD'),\n",
       "  ('0', 'CD'),\n",
       "  ('*T*-2', 'NN'),\n",
       "  ('.', '.')]]"
      ]
     },
     "execution_count": 15,
     "metadata": {},
     "output_type": "execute_result"
    }
   ],
   "source": [
    "nltk.pos_tag_sents(DATA)[:5]"
   ]
  },
  {
   "cell_type": "code",
   "execution_count": 16,
   "metadata": {},
   "outputs": [],
   "source": [
    "perceptron_pretrained = nltk.perceptron.PerceptronTagger()"
   ]
  },
  {
   "cell_type": "code",
   "execution_count": 17,
   "metadata": {},
   "outputs": [
    {
     "data": {
      "text/plain": [
       "0.8937072708218973"
      ]
     },
     "execution_count": 17,
     "metadata": {},
     "output_type": "execute_result"
    }
   ],
   "source": [
    "perceptron_pretrained.evaluate(DATA_TEST)"
   ]
  },
  {
   "cell_type": "code",
   "execution_count": 18,
   "metadata": {},
   "outputs": [
    {
     "data": {
      "text/plain": [
       "[[('Pierre', 'NNP'),\n",
       "  ('Vinken', 'NNP'),\n",
       "  (',', ','),\n",
       "  ('61', 'CD'),\n",
       "  ('years', 'NNS'),\n",
       "  ('old', 'JJ'),\n",
       "  (',', ','),\n",
       "  ('will', 'MD'),\n",
       "  ('join', 'VB'),\n",
       "  ('the', 'DT'),\n",
       "  ('board', 'NN'),\n",
       "  ('as', 'IN'),\n",
       "  ('a', 'DT'),\n",
       "  ('nonexecutive', 'JJ'),\n",
       "  ('director', 'NN'),\n",
       "  ('Nov.', 'NNP'),\n",
       "  ('29', 'CD'),\n",
       "  ('.', '.')],\n",
       " [('Mr.', 'NNP'),\n",
       "  ('Vinken', 'NNP'),\n",
       "  ('is', 'VBZ'),\n",
       "  ('chairman', 'NN'),\n",
       "  ('of', 'IN'),\n",
       "  ('Elsevier', 'NNP'),\n",
       "  ('N.V.', 'NNP'),\n",
       "  (',', ','),\n",
       "  ('the', 'DT'),\n",
       "  ('Dutch', 'NNP'),\n",
       "  ('publishing', 'NN'),\n",
       "  ('group', 'NN'),\n",
       "  ('.', '.')],\n",
       " [('Rudolph', 'NNP'),\n",
       "  ('Agnew', 'NNP'),\n",
       "  (',', ','),\n",
       "  ('55', 'CD'),\n",
       "  ('years', 'NNS'),\n",
       "  ('old', 'JJ'),\n",
       "  ('and', 'CC'),\n",
       "  ('former', 'JJ'),\n",
       "  ('chairman', 'NN'),\n",
       "  ('of', 'IN'),\n",
       "  ('Consolidated', 'NNP'),\n",
       "  ('Gold', 'NNP'),\n",
       "  ('Fields', 'NNP'),\n",
       "  ('PLC', 'NNP'),\n",
       "  (',', ','),\n",
       "  ('was', 'VBD'),\n",
       "  ('named', 'VBN'),\n",
       "  ('*-1', 'JJ'),\n",
       "  ('a', 'DT'),\n",
       "  ('nonexecutive', 'JJ'),\n",
       "  ('director', 'NN'),\n",
       "  ('of', 'IN'),\n",
       "  ('this', 'DT'),\n",
       "  ('British', 'JJ'),\n",
       "  ('industrial', 'JJ'),\n",
       "  ('conglomerate', 'NN'),\n",
       "  ('.', '.')],\n",
       " [('A', 'DT'),\n",
       "  ('form', 'NN'),\n",
       "  ('of', 'IN'),\n",
       "  ('asbestos', 'NN'),\n",
       "  ('once', 'RB'),\n",
       "  ('used', 'VBD'),\n",
       "  ('*', 'JJ'),\n",
       "  ('*', 'NN'),\n",
       "  ('to', 'TO'),\n",
       "  ('make', 'VB'),\n",
       "  ('Kent', 'NNP'),\n",
       "  ('cigarette', 'NN'),\n",
       "  ('filters', 'NNS'),\n",
       "  ('has', 'VBZ'),\n",
       "  ('caused', 'VBN'),\n",
       "  ('a', 'DT'),\n",
       "  ('high', 'JJ'),\n",
       "  ('percentage', 'NN'),\n",
       "  ('of', 'IN'),\n",
       "  ('cancer', 'NN'),\n",
       "  ('deaths', 'NNS'),\n",
       "  ('among', 'IN'),\n",
       "  ('a', 'DT'),\n",
       "  ('group', 'NN'),\n",
       "  ('of', 'IN'),\n",
       "  ('workers', 'NNS'),\n",
       "  ('exposed', 'VBN'),\n",
       "  ('*', 'RB'),\n",
       "  ('to', 'TO'),\n",
       "  ('it', 'PRP'),\n",
       "  ('more', 'JJR'),\n",
       "  ('than', 'IN'),\n",
       "  ('30', 'CD'),\n",
       "  ('years', 'NNS'),\n",
       "  ('ago', 'RB'),\n",
       "  (',', ','),\n",
       "  ('researchers', 'NNS'),\n",
       "  ('reported', 'VBD'),\n",
       "  ('0', 'CD'),\n",
       "  ('*T*-1', 'NN'),\n",
       "  ('.', '.')],\n",
       " [('The', 'DT'),\n",
       "  ('asbestos', 'NN'),\n",
       "  ('fiber', 'NN'),\n",
       "  (',', ','),\n",
       "  ('crocidolite', 'NN'),\n",
       "  (',', ','),\n",
       "  ('is', 'VBZ'),\n",
       "  ('unusually', 'RB'),\n",
       "  ('resilient', 'JJ'),\n",
       "  ('once', 'IN'),\n",
       "  ('it', 'PRP'),\n",
       "  ('enters', 'VBZ'),\n",
       "  ('the', 'DT'),\n",
       "  ('lungs', 'NNS'),\n",
       "  (',', ','),\n",
       "  ('with', 'IN'),\n",
       "  ('even', 'RB'),\n",
       "  ('brief', 'JJ'),\n",
       "  ('exposures', 'NNS'),\n",
       "  ('to', 'TO'),\n",
       "  ('it', 'PRP'),\n",
       "  ('causing', 'VBG'),\n",
       "  ('symptoms', 'NNS'),\n",
       "  ('that', 'IN'),\n",
       "  ('*T*-1', 'NN'),\n",
       "  ('show', 'VBP'),\n",
       "  ('up', 'RP'),\n",
       "  ('decades', 'NNS'),\n",
       "  ('later', 'RB'),\n",
       "  (',', ','),\n",
       "  ('researchers', 'NNS'),\n",
       "  ('said', 'VBD'),\n",
       "  ('0', 'CD'),\n",
       "  ('*T*-2', 'NN'),\n",
       "  ('.', '.')]]"
      ]
     },
     "execution_count": 18,
     "metadata": {},
     "output_type": "execute_result"
    }
   ],
   "source": [
    "perceptron_pretrained.tag_sents(DATA)[:5]"
   ]
  },
  {
   "cell_type": "markdown",
   "metadata": {},
   "source": [
    "## Training\n",
    "\n",
    "NLTK also provides a way to train the Average Perceptron Tagger"
   ]
  },
  {
   "cell_type": "code",
   "execution_count": 19,
   "metadata": {},
   "outputs": [],
   "source": [
    "perceptron_trained = nltk.perceptron.PerceptronTagger(load=False)\n",
    "perceptron_trained.train(DATA_TRAIN, nr_iter=5)"
   ]
  },
  {
   "cell_type": "code",
   "execution_count": 20,
   "metadata": {},
   "outputs": [
    {
     "data": {
      "text/plain": [
       "0.9940722001066508"
      ]
     },
     "execution_count": 20,
     "metadata": {},
     "output_type": "execute_result"
    }
   ],
   "source": [
    "perceptron_trained.evaluate(DATA_TRAIN)"
   ]
  },
  {
   "cell_type": "code",
   "execution_count": 21,
   "metadata": {},
   "outputs": [
    {
     "data": {
      "text/plain": [
       "0.9590298917111633"
      ]
     },
     "execution_count": 21,
     "metadata": {},
     "output_type": "execute_result"
    }
   ],
   "source": [
    "perceptron_trained.evaluate(DATA_TEST)"
   ]
  },
  {
   "cell_type": "markdown",
   "metadata": {},
   "source": [
    "## Hidden Markov Models\n",
    "\n",
    "Hidden Markov Models or HMM fits the labels of a tagging problem into the states of a Markov Model.\n",
    "\n",
    "NLTK's implementation allows you not only to train from data but also to provide the matrices from the HMM"
   ]
  },
  {
   "cell_type": "code",
   "execution_count": 22,
   "metadata": {},
   "outputs": [],
   "source": [
    "hmm_trainer = nltk.hmm.HiddenMarkovModelTrainer()\n",
    "hmm = hmm_trainer.train_supervised(DATA_TRAIN)"
   ]
  },
  {
   "cell_type": "code",
   "execution_count": 23,
   "metadata": {},
   "outputs": [
    {
     "data": {
      "text/plain": [
       "0.9813485124694619"
      ]
     },
     "execution_count": 23,
     "metadata": {},
     "output_type": "execute_result"
    }
   ],
   "source": [
    "hmm.evaluate(DATA_TRAIN)"
   ]
  },
  {
   "cell_type": "code",
   "execution_count": 24,
   "metadata": {},
   "outputs": [
    {
     "data": {
      "text/plain": [
       "0.3647387594191327"
      ]
     },
     "execution_count": 24,
     "metadata": {},
     "output_type": "execute_result"
    }
   ],
   "source": [
    "hmm.evaluate(DATA_TEST)"
   ]
  },
  {
   "cell_type": "code",
   "execution_count": 25,
   "metadata": {},
   "outputs": [
    {
     "data": {
      "text/plain": [
       "[[('Pierre', 'NNP'),\n",
       "  ('Vinken', 'NNP'),\n",
       "  (',', ','),\n",
       "  ('61', 'CD'),\n",
       "  ('years', 'NNS'),\n",
       "  ('old', 'JJ'),\n",
       "  (',', ','),\n",
       "  ('will', 'MD'),\n",
       "  ('join', 'VB'),\n",
       "  ('the', 'DT'),\n",
       "  ('board', 'NN'),\n",
       "  ('as', 'IN'),\n",
       "  ('a', 'DT'),\n",
       "  ('nonexecutive', 'JJ'),\n",
       "  ('director', 'NN'),\n",
       "  ('Nov.', 'NNP'),\n",
       "  ('29', 'CD'),\n",
       "  ('.', '.')],\n",
       " [('Mr.', 'NNP'),\n",
       "  ('Vinken', 'NNP'),\n",
       "  ('is', 'VBZ'),\n",
       "  ('chairman', 'NN'),\n",
       "  ('of', 'IN'),\n",
       "  ('Elsevier', 'NNP'),\n",
       "  ('N.V.', 'NNP'),\n",
       "  (',', ','),\n",
       "  ('the', 'DT'),\n",
       "  ('Dutch', 'JJ'),\n",
       "  ('publishing', 'NN'),\n",
       "  ('group', 'NN'),\n",
       "  ('.', '.')],\n",
       " [('Rudolph', 'NNP'),\n",
       "  ('Agnew', 'NNP'),\n",
       "  (',', ','),\n",
       "  ('55', 'CD'),\n",
       "  ('years', 'NNS'),\n",
       "  ('old', 'JJ'),\n",
       "  ('and', 'CC'),\n",
       "  ('former', 'JJ'),\n",
       "  ('chairman', 'NN'),\n",
       "  ('of', 'IN'),\n",
       "  ('Consolidated', 'NNP'),\n",
       "  ('Gold', 'NNP'),\n",
       "  ('Fields', 'NNP'),\n",
       "  ('PLC', 'NNP'),\n",
       "  (',', ','),\n",
       "  ('was', 'VBD'),\n",
       "  ('named', 'VBN'),\n",
       "  ('*-1', '-NONE-'),\n",
       "  ('a', 'DT'),\n",
       "  ('nonexecutive', 'JJ'),\n",
       "  ('director', 'NN'),\n",
       "  ('of', 'IN'),\n",
       "  ('this', 'DT'),\n",
       "  ('British', 'JJ'),\n",
       "  ('industrial', 'JJ'),\n",
       "  ('conglomerate', 'NN'),\n",
       "  ('.', '.')],\n",
       " [('A', 'DT'),\n",
       "  ('form', 'NN'),\n",
       "  ('of', 'IN'),\n",
       "  ('asbestos', 'NN'),\n",
       "  ('once', 'RB'),\n",
       "  ('used', 'VBN'),\n",
       "  ('*', '-NONE-'),\n",
       "  ('*', '-NONE-'),\n",
       "  ('to', 'TO'),\n",
       "  ('make', 'VB'),\n",
       "  ('Kent', 'NNP'),\n",
       "  ('cigarette', 'NN'),\n",
       "  ('filters', 'NNS'),\n",
       "  ('has', 'VBZ'),\n",
       "  ('caused', 'VBN'),\n",
       "  ('a', 'DT'),\n",
       "  ('high', 'JJ'),\n",
       "  ('percentage', 'NN'),\n",
       "  ('of', 'IN'),\n",
       "  ('cancer', 'NN'),\n",
       "  ('deaths', 'NNS'),\n",
       "  ('among', 'IN'),\n",
       "  ('a', 'DT'),\n",
       "  ('group', 'NN'),\n",
       "  ('of', 'IN'),\n",
       "  ('workers', 'NNS'),\n",
       "  ('exposed', 'VBN'),\n",
       "  ('*', '-NONE-'),\n",
       "  ('to', 'TO'),\n",
       "  ('it', 'PRP'),\n",
       "  ('more', 'JJR'),\n",
       "  ('than', 'IN'),\n",
       "  ('30', 'CD'),\n",
       "  ('years', 'NNS'),\n",
       "  ('ago', 'RB'),\n",
       "  (',', ','),\n",
       "  ('researchers', 'NNS'),\n",
       "  ('reported', 'VBD'),\n",
       "  ('0', '-NONE-'),\n",
       "  ('*T*-1', '-NONE-'),\n",
       "  ('.', '.')],\n",
       " [('The', 'DT'),\n",
       "  ('asbestos', 'NN'),\n",
       "  ('fiber', 'NN'),\n",
       "  (',', ','),\n",
       "  ('crocidolite', 'NN'),\n",
       "  (',', ','),\n",
       "  ('is', 'VBZ'),\n",
       "  ('unusually', 'RB'),\n",
       "  ('resilient', 'JJ'),\n",
       "  ('once', 'IN'),\n",
       "  ('it', 'PRP'),\n",
       "  ('enters', 'VBZ'),\n",
       "  ('the', 'DT'),\n",
       "  ('lungs', 'NNS'),\n",
       "  (',', ','),\n",
       "  ('with', 'IN'),\n",
       "  ('even', 'RB'),\n",
       "  ('brief', 'JJ'),\n",
       "  ('exposures', 'NNS'),\n",
       "  ('to', 'TO'),\n",
       "  ('it', 'PRP'),\n",
       "  ('causing', 'VBG'),\n",
       "  ('symptoms', 'NNS'),\n",
       "  ('that', 'WDT'),\n",
       "  ('*T*-1', '-NONE-'),\n",
       "  ('show', 'VBP'),\n",
       "  ('up', 'RP'),\n",
       "  ('decades', 'NNS'),\n",
       "  ('later', 'JJ'),\n",
       "  (',', ','),\n",
       "  ('researchers', 'NNS'),\n",
       "  ('said', 'VBD'),\n",
       "  ('0', '-NONE-'),\n",
       "  ('*T*-2', '-NONE-'),\n",
       "  ('.', '.')]]"
      ]
     },
     "execution_count": 25,
     "metadata": {},
     "output_type": "execute_result"
    }
   ],
   "source": [
    "hmm.tag_sents(DATA)[:5]"
   ]
  },
  {
   "cell_type": "markdown",
   "metadata": {},
   "source": [
    "## Conditional Random Fields\n",
    "\n",
    "Conditional Random Field or CRF is a generalization of the logistic regression on sequence data. Similar to logistic regression, it allows the creation of different features as a way to predict the label of an element of a sequence.\n",
    "\n",
    "This feature requires the installation of [`python-crfsuite`](https://github.com/scrapinghub/python-crfsuite)."
   ]
  },
  {
   "cell_type": "markdown",
   "metadata": {},
   "source": [
    "### Predefined Features\n",
    "\n",
    "Out of the box, NLTK provides its own CRF features if you did not provide any."
   ]
  },
  {
   "cell_type": "code",
   "execution_count": 26,
   "metadata": {},
   "outputs": [],
   "source": [
    "crf_default = nltk.crf.CRFTagger()\n",
    "crf_default.train(DATA_TRAIN, 'crf_default.tag')"
   ]
  },
  {
   "cell_type": "code",
   "execution_count": 27,
   "metadata": {},
   "outputs": [
    {
     "data": {
      "text/plain": [
       "0.9597703287572702"
      ]
     },
     "execution_count": 27,
     "metadata": {},
     "output_type": "execute_result"
    }
   ],
   "source": [
    "crf_default.evaluate(DATA_TRAIN)"
   ]
  },
  {
   "cell_type": "code",
   "execution_count": 28,
   "metadata": {},
   "outputs": [
    {
     "data": {
      "text/plain": [
       "0.9478516892060482"
      ]
     },
     "execution_count": 28,
     "metadata": {},
     "output_type": "execute_result"
    }
   ],
   "source": [
    "crf_default.evaluate(DATA_TEST)"
   ]
  },
  {
   "cell_type": "code",
   "execution_count": 29,
   "metadata": {},
   "outputs": [
    {
     "data": {
      "text/plain": [
       "[[('Pierre', 'NNP'),\n",
       "  ('Vinken', 'NNP'),\n",
       "  (',', ','),\n",
       "  ('61', 'CD'),\n",
       "  ('years', 'NNS'),\n",
       "  ('old', 'JJ'),\n",
       "  (',', ','),\n",
       "  ('will', 'MD'),\n",
       "  ('join', 'VB'),\n",
       "  ('the', 'DT'),\n",
       "  ('board', 'NN'),\n",
       "  ('as', 'IN'),\n",
       "  ('a', 'DT'),\n",
       "  ('nonexecutive', 'JJ'),\n",
       "  ('director', 'NN'),\n",
       "  ('Nov.', 'NNP'),\n",
       "  ('29', 'CD'),\n",
       "  ('.', '.')],\n",
       " [('Mr.', 'NNP'),\n",
       "  ('Vinken', 'NNP'),\n",
       "  ('is', 'VBZ'),\n",
       "  ('chairman', 'NN'),\n",
       "  ('of', 'IN'),\n",
       "  ('Elsevier', 'NNP'),\n",
       "  ('N.V.', 'NNP'),\n",
       "  (',', ','),\n",
       "  ('the', 'DT'),\n",
       "  ('Dutch', 'NNP'),\n",
       "  ('publishing', 'NN'),\n",
       "  ('group', 'NN'),\n",
       "  ('.', '.')],\n",
       " [('Rudolph', 'NNP'),\n",
       "  ('Agnew', 'NNP'),\n",
       "  (',', ','),\n",
       "  ('55', 'CD'),\n",
       "  ('years', 'NNS'),\n",
       "  ('old', 'JJ'),\n",
       "  ('and', 'CC'),\n",
       "  ('former', 'JJ'),\n",
       "  ('chairman', 'NN'),\n",
       "  ('of', 'IN'),\n",
       "  ('Consolidated', 'NNP'),\n",
       "  ('Gold', 'NNP'),\n",
       "  ('Fields', 'NNP'),\n",
       "  ('PLC', 'NNP'),\n",
       "  (',', ','),\n",
       "  ('was', 'VBD'),\n",
       "  ('named', 'VBN'),\n",
       "  ('*-1', '-NONE-'),\n",
       "  ('a', 'DT'),\n",
       "  ('nonexecutive', 'JJ'),\n",
       "  ('director', 'NN'),\n",
       "  ('of', 'IN'),\n",
       "  ('this', 'DT'),\n",
       "  ('British', 'JJ'),\n",
       "  ('industrial', 'JJ'),\n",
       "  ('conglomerate', 'NN'),\n",
       "  ('.', '.')],\n",
       " [('A', 'DT'),\n",
       "  ('form', 'NN'),\n",
       "  ('of', 'IN'),\n",
       "  ('asbestos', 'NN'),\n",
       "  ('once', 'RB'),\n",
       "  ('used', 'VBN'),\n",
       "  ('*', '-NONE-'),\n",
       "  ('*', '-NONE-'),\n",
       "  ('to', 'TO'),\n",
       "  ('make', 'VB'),\n",
       "  ('Kent', 'NNP'),\n",
       "  ('cigarette', 'NN'),\n",
       "  ('filters', 'NNS'),\n",
       "  ('has', 'VBZ'),\n",
       "  ('caused', 'VBN'),\n",
       "  ('a', 'DT'),\n",
       "  ('high', 'JJ'),\n",
       "  ('percentage', 'NN'),\n",
       "  ('of', 'IN'),\n",
       "  ('cancer', 'NN'),\n",
       "  ('deaths', 'NNS'),\n",
       "  ('among', 'IN'),\n",
       "  ('a', 'DT'),\n",
       "  ('group', 'NN'),\n",
       "  ('of', 'IN'),\n",
       "  ('workers', 'NNS'),\n",
       "  ('exposed', 'VBN'),\n",
       "  ('*', '-NONE-'),\n",
       "  ('to', 'TO'),\n",
       "  ('it', 'PRP'),\n",
       "  ('more', 'JJR'),\n",
       "  ('than', 'IN'),\n",
       "  ('30', 'CD'),\n",
       "  ('years', 'NNS'),\n",
       "  ('ago', 'RB'),\n",
       "  (',', ','),\n",
       "  ('researchers', 'NNS'),\n",
       "  ('reported', 'VBD'),\n",
       "  ('0', '-NONE-'),\n",
       "  ('*T*-1', '-NONE-'),\n",
       "  ('.', '.')],\n",
       " [('The', 'DT'),\n",
       "  ('asbestos', 'NN'),\n",
       "  ('fiber', 'NN'),\n",
       "  (',', ','),\n",
       "  ('crocidolite', 'NN'),\n",
       "  (',', ','),\n",
       "  ('is', 'VBZ'),\n",
       "  ('unusually', 'RB'),\n",
       "  ('resilient', 'JJ'),\n",
       "  ('once', 'NN'),\n",
       "  ('it', 'PRP'),\n",
       "  ('enters', 'VBZ'),\n",
       "  ('the', 'DT'),\n",
       "  ('lungs', 'NNS'),\n",
       "  (',', ','),\n",
       "  ('with', 'IN'),\n",
       "  ('even', 'RB'),\n",
       "  ('brief', 'JJ'),\n",
       "  ('exposures', 'NNS'),\n",
       "  ('to', 'TO'),\n",
       "  ('it', 'PRP'),\n",
       "  ('causing', 'VBG'),\n",
       "  ('symptoms', 'NNS'),\n",
       "  ('that', 'WDT'),\n",
       "  ('*T*-1', '-NONE-'),\n",
       "  ('show', 'VBP'),\n",
       "  ('up', 'RP'),\n",
       "  ('decades', 'NNS'),\n",
       "  ('later', 'JJ'),\n",
       "  (',', ','),\n",
       "  ('researchers', 'NNS'),\n",
       "  ('said', 'VBD'),\n",
       "  ('0', '-NONE-'),\n",
       "  ('*T*-2', '-NONE-'),\n",
       "  ('.', '.')]]"
      ]
     },
     "execution_count": 29,
     "metadata": {},
     "output_type": "execute_result"
    }
   ],
   "source": [
    "crf_default.tag_sents(DATA)[:5]"
   ]
  },
  {
   "cell_type": "markdown",
   "metadata": {},
   "source": [
    "## Custom Features\n",
    "\n",
    "While the NLTK allows providing custom functions to generate features, the API does not allow using the previous states (tags).\n",
    "\n",
    "The feature function must accept two arguments, the word list `tokens` and the index of the current word `idx`. It should return a list of strings. The list of strings act as a flag to determine if that feature is on for a word.\n",
    "\n",
    "For example if a word has a feature list `['CAPS', 'SUF_ly']` then this indicate that features `CAPS` and `SUF_ly` is true for the word. In practice, this can mean that the word is all caps and that it ends in ly"
   ]
  },
  {
   "cell_type": "code",
   "execution_count": 30,
   "metadata": {},
   "outputs": [],
   "source": [
    "def custom_crf_features(tokens, idx):\n",
    "    feature_list = []\n",
    "    \n",
    "    # WORDS\n",
    "    feature_list.append(f'WORD_{tokens[idx]}')\n",
    "    try:\n",
    "        feature_list.append(f'WORD-1_{tokens[idx-1]}')\n",
    "    except IndexError:\n",
    "        pass\n",
    "    try:\n",
    "        feature_list.append(f'WORD+1_{tokens[idx+1]}')\n",
    "    except IndexError:\n",
    "        pass\n",
    "    \n",
    "    # SUFFIX\n",
    "    token = tokens[idx]  \n",
    "    if len(token) > 1:\n",
    "        feature_list.append(\"SUF_\" + token[-1:])\n",
    "    if len(token) > 2:\n",
    "        feature_list.append(\"SUF_\" + token[-2:])\n",
    "    if len(token) > 3:\n",
    "        feature_list.append(\"SUF_\" + token[-3:])\n",
    "                \n",
    "    return feature_list"
   ]
  },
  {
   "cell_type": "code",
   "execution_count": 31,
   "metadata": {},
   "outputs": [],
   "source": [
    "crf_custom = nltk.crf.CRFTagger(feature_func=custom_crf_features)\n",
    "crf_custom.train(DATA_TRAIN, 'crf_custom.tag')"
   ]
  },
  {
   "cell_type": "code",
   "execution_count": 32,
   "metadata": {},
   "outputs": [
    {
     "data": {
      "text/plain": [
       "0.9664918089710679"
      ]
     },
     "execution_count": 32,
     "metadata": {},
     "output_type": "execute_result"
    }
   ],
   "source": [
    "crf_custom.evaluate(DATA_TRAIN)"
   ]
  },
  {
   "cell_type": "code",
   "execution_count": 33,
   "metadata": {},
   "outputs": [
    {
     "data": {
      "text/plain": [
       "0.9344278656619592"
      ]
     },
     "execution_count": 33,
     "metadata": {},
     "output_type": "execute_result"
    }
   ],
   "source": [
    "crf_custom.evaluate(DATA_TEST)"
   ]
  }
 ],
 "metadata": {
  "kernelspec": {
   "display_name": "Python 3",
   "language": "python",
   "name": "python3"
  },
  "language_info": {
   "codemirror_mode": {
    "name": "ipython",
    "version": 3
   },
   "file_extension": ".py",
   "mimetype": "text/x-python",
   "name": "python",
   "nbconvert_exporter": "python",
   "pygments_lexer": "ipython3",
   "version": "3.7.6"
  }
 },
 "nbformat": 4,
 "nbformat_minor": 4
}
